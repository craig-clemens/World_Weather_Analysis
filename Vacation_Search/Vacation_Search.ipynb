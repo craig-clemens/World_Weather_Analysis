{
 "cells": [
  {
   "cell_type": "markdown",
   "metadata": {},
   "source": [
    "## Deliverable 2. Create a Customer Travel Destinations Map."
   ]
  },
  {
   "cell_type": "code",
   "execution_count": 48,
   "metadata": {},
   "outputs": [],
   "source": [
    "# Dependencies and Setup\n",
    "import pandas as pd\n",
    "import requests\n",
    "import gmaps\n",
    "\n",
    "# Import API key\n",
    "from config import g_key\n",
    "\n",
    "# Configure gmaps API key\n",
    "gmaps.configure(api_key=g_key)"
   ]
  },
  {
   "cell_type": "code",
   "execution_count": 49,
   "metadata": {},
   "outputs": [
    {
     "output_type": "execute_result",
     "data": {
      "text/plain": [
       "   Unnamed: 0       City Country      Lat       Log  Max Temp  Humidity  \\\n",
       "0           0  Busselton      AU -33.6500  115.3333     64.09        74   \n",
       "1           1  Tazovskiy      RU  67.4667   78.7000     31.57        70   \n",
       "2           2     Narsaq      GL  60.9167  -46.0500     36.84        79   \n",
       "3           3   Araouane      ML  18.9048   -3.5265     94.71        22   \n",
       "4           4    Northam      GB  51.0333   -4.2167     56.08        83   \n",
       "\n",
       "   Cloudiness  Wind Speed Current Description  \n",
       "0          83       11.88       broken clouds  \n",
       "1          82        7.90       broken clouds  \n",
       "2           9        6.82           clear sky  \n",
       "3          64        9.24       broken clouds  \n",
       "4         100        6.04     overcast clouds  "
      ],
      "text/html": "<div>\n<style scoped>\n    .dataframe tbody tr th:only-of-type {\n        vertical-align: middle;\n    }\n\n    .dataframe tbody tr th {\n        vertical-align: top;\n    }\n\n    .dataframe thead th {\n        text-align: right;\n    }\n</style>\n<table border=\"1\" class=\"dataframe\">\n  <thead>\n    <tr style=\"text-align: right;\">\n      <th></th>\n      <th>Unnamed: 0</th>\n      <th>City</th>\n      <th>Country</th>\n      <th>Lat</th>\n      <th>Log</th>\n      <th>Max Temp</th>\n      <th>Humidity</th>\n      <th>Cloudiness</th>\n      <th>Wind Speed</th>\n      <th>Current Description</th>\n    </tr>\n  </thead>\n  <tbody>\n    <tr>\n      <th>0</th>\n      <td>0</td>\n      <td>Busselton</td>\n      <td>AU</td>\n      <td>-33.6500</td>\n      <td>115.3333</td>\n      <td>64.09</td>\n      <td>74</td>\n      <td>83</td>\n      <td>11.88</td>\n      <td>broken clouds</td>\n    </tr>\n    <tr>\n      <th>1</th>\n      <td>1</td>\n      <td>Tazovskiy</td>\n      <td>RU</td>\n      <td>67.4667</td>\n      <td>78.7000</td>\n      <td>31.57</td>\n      <td>70</td>\n      <td>82</td>\n      <td>7.90</td>\n      <td>broken clouds</td>\n    </tr>\n    <tr>\n      <th>2</th>\n      <td>2</td>\n      <td>Narsaq</td>\n      <td>GL</td>\n      <td>60.9167</td>\n      <td>-46.0500</td>\n      <td>36.84</td>\n      <td>79</td>\n      <td>9</td>\n      <td>6.82</td>\n      <td>clear sky</td>\n    </tr>\n    <tr>\n      <th>3</th>\n      <td>3</td>\n      <td>Araouane</td>\n      <td>ML</td>\n      <td>18.9048</td>\n      <td>-3.5265</td>\n      <td>94.71</td>\n      <td>22</td>\n      <td>64</td>\n      <td>9.24</td>\n      <td>broken clouds</td>\n    </tr>\n    <tr>\n      <th>4</th>\n      <td>4</td>\n      <td>Northam</td>\n      <td>GB</td>\n      <td>51.0333</td>\n      <td>-4.2167</td>\n      <td>56.08</td>\n      <td>83</td>\n      <td>100</td>\n      <td>6.04</td>\n      <td>overcast clouds</td>\n    </tr>\n  </tbody>\n</table>\n</div>"
     },
     "metadata": {},
     "execution_count": 49
    }
   ],
   "source": [
    "# 1. Import the WeatherPy_database.csv file. \n",
    "city_data_df = pd.read_csv(\"Weather_Database/WeatherPy_Database.csv\")\n",
    "city_data_df.head()"
   ]
  },
  {
   "cell_type": "code",
   "execution_count": 51,
   "metadata": {},
   "outputs": [],
   "source": [
    "# 2. Prompt the user to enter minimum and maximum temperature criteria \n",
    "min_temp = float(input(\"What is the minimum temperature you would like for your trip? \"))\n",
    "max_temp = float(input(\"What is the maximum temperature you would like for your trip? \"))"
   ]
  },
  {
   "cell_type": "code",
   "execution_count": 52,
   "metadata": {},
   "outputs": [
    {
     "output_type": "execute_result",
     "data": {
      "text/plain": [
       "    Unnamed: 0          City Country      Lat       Log  Max Temp  Humidity  \\\n",
       "8            8     Hithadhoo      MV  -0.6000   73.0833     82.71        75   \n",
       "26          26          Auki      SB  -8.7676  160.7034     80.33        85   \n",
       "28          28         Alofi      NU -19.0595 -169.9187     82.29        74   \n",
       "32          32         Kapaa      US  22.0752 -159.3190     81.12        72   \n",
       "33          33        Faanui      PF -16.4833 -151.7500     80.33        70   \n",
       "62          62   Las Choapas      MX  17.9333  -94.0833     80.91        78   \n",
       "68          68  Port Hedland      AU -20.3167  118.5667     80.65        34   \n",
       "85          85        Sorong      ID  -0.8833  131.2500     83.82        76   \n",
       "88          88        Avarua      CK -21.2078 -159.7750     80.65        57   \n",
       "95          95    Butaritari      KI   3.0707  172.7902     82.89        79   \n",
       "\n",
       "    Cloudiness  Wind Speed Current Description  \n",
       "8          100       16.24     overcast clouds  \n",
       "26          94        5.35          light rain  \n",
       "28          33        6.91    scattered clouds  \n",
       "32          21        1.99          few clouds  \n",
       "33          23        1.10          few clouds  \n",
       "62          34        2.51    scattered clouds  \n",
       "68          99       18.41     overcast clouds  \n",
       "85          13       12.93          few clouds  \n",
       "88          99        8.05     overcast clouds  \n",
       "95         100       17.05          light rain  "
      ],
      "text/html": "<div>\n<style scoped>\n    .dataframe tbody tr th:only-of-type {\n        vertical-align: middle;\n    }\n\n    .dataframe tbody tr th {\n        vertical-align: top;\n    }\n\n    .dataframe thead th {\n        text-align: right;\n    }\n</style>\n<table border=\"1\" class=\"dataframe\">\n  <thead>\n    <tr style=\"text-align: right;\">\n      <th></th>\n      <th>Unnamed: 0</th>\n      <th>City</th>\n      <th>Country</th>\n      <th>Lat</th>\n      <th>Log</th>\n      <th>Max Temp</th>\n      <th>Humidity</th>\n      <th>Cloudiness</th>\n      <th>Wind Speed</th>\n      <th>Current Description</th>\n    </tr>\n  </thead>\n  <tbody>\n    <tr>\n      <th>8</th>\n      <td>8</td>\n      <td>Hithadhoo</td>\n      <td>MV</td>\n      <td>-0.6000</td>\n      <td>73.0833</td>\n      <td>82.71</td>\n      <td>75</td>\n      <td>100</td>\n      <td>16.24</td>\n      <td>overcast clouds</td>\n    </tr>\n    <tr>\n      <th>26</th>\n      <td>26</td>\n      <td>Auki</td>\n      <td>SB</td>\n      <td>-8.7676</td>\n      <td>160.7034</td>\n      <td>80.33</td>\n      <td>85</td>\n      <td>94</td>\n      <td>5.35</td>\n      <td>light rain</td>\n    </tr>\n    <tr>\n      <th>28</th>\n      <td>28</td>\n      <td>Alofi</td>\n      <td>NU</td>\n      <td>-19.0595</td>\n      <td>-169.9187</td>\n      <td>82.29</td>\n      <td>74</td>\n      <td>33</td>\n      <td>6.91</td>\n      <td>scattered clouds</td>\n    </tr>\n    <tr>\n      <th>32</th>\n      <td>32</td>\n      <td>Kapaa</td>\n      <td>US</td>\n      <td>22.0752</td>\n      <td>-159.3190</td>\n      <td>81.12</td>\n      <td>72</td>\n      <td>21</td>\n      <td>1.99</td>\n      <td>few clouds</td>\n    </tr>\n    <tr>\n      <th>33</th>\n      <td>33</td>\n      <td>Faanui</td>\n      <td>PF</td>\n      <td>-16.4833</td>\n      <td>-151.7500</td>\n      <td>80.33</td>\n      <td>70</td>\n      <td>23</td>\n      <td>1.10</td>\n      <td>few clouds</td>\n    </tr>\n    <tr>\n      <th>62</th>\n      <td>62</td>\n      <td>Las Choapas</td>\n      <td>MX</td>\n      <td>17.9333</td>\n      <td>-94.0833</td>\n      <td>80.91</td>\n      <td>78</td>\n      <td>34</td>\n      <td>2.51</td>\n      <td>scattered clouds</td>\n    </tr>\n    <tr>\n      <th>68</th>\n      <td>68</td>\n      <td>Port Hedland</td>\n      <td>AU</td>\n      <td>-20.3167</td>\n      <td>118.5667</td>\n      <td>80.65</td>\n      <td>34</td>\n      <td>99</td>\n      <td>18.41</td>\n      <td>overcast clouds</td>\n    </tr>\n    <tr>\n      <th>85</th>\n      <td>85</td>\n      <td>Sorong</td>\n      <td>ID</td>\n      <td>-0.8833</td>\n      <td>131.2500</td>\n      <td>83.82</td>\n      <td>76</td>\n      <td>13</td>\n      <td>12.93</td>\n      <td>few clouds</td>\n    </tr>\n    <tr>\n      <th>88</th>\n      <td>88</td>\n      <td>Avarua</td>\n      <td>CK</td>\n      <td>-21.2078</td>\n      <td>-159.7750</td>\n      <td>80.65</td>\n      <td>57</td>\n      <td>99</td>\n      <td>8.05</td>\n      <td>overcast clouds</td>\n    </tr>\n    <tr>\n      <th>95</th>\n      <td>95</td>\n      <td>Butaritari</td>\n      <td>KI</td>\n      <td>3.0707</td>\n      <td>172.7902</td>\n      <td>82.89</td>\n      <td>79</td>\n      <td>100</td>\n      <td>17.05</td>\n      <td>light rain</td>\n    </tr>\n  </tbody>\n</table>\n</div>"
     },
     "metadata": {},
     "execution_count": 52
    }
   ],
   "source": [
    "# 3. Filter the city_data_df DataFrame using the input statements to create a new DataFrame using the loc method.\n",
    "preferred_cities_df = city_data_df.loc[(city_data_df[\"Max Temp\"] <= max_temp) & \\\n",
    "                                       (city_data_df[\"Max Temp\"] >= min_temp)]\n",
    "preferred_cities_df.head(10)"
   ]
  },
  {
   "cell_type": "code",
   "execution_count": 60,
   "metadata": {},
   "outputs": [
    {
     "output_type": "execute_result",
     "data": {
      "text/plain": [
       "Unnamed: 0             0\n",
       "City                   0\n",
       "Country                0\n",
       "Lat                    0\n",
       "Log                    0\n",
       "Max Temp               0\n",
       "Humidity               0\n",
       "Cloudiness             0\n",
       "Wind Speed             0\n",
       "Current Description    0\n",
       "dtype: int64"
      ]
     },
     "metadata": {},
     "execution_count": 60
    }
   ],
   "source": [
    "# 4a. Determine if there are any empty rows.\n",
    "preferred_cities_df.isnull().sum()"
   ]
  },
  {
   "cell_type": "code",
   "execution_count": 61,
   "metadata": {},
   "outputs": [
    {
     "output_type": "execute_result",
     "data": {
      "text/plain": [
       "     Unnamed: 0       City Country      Lat       Log  Max Temp  Humidity  \\\n",
       "8             8  Hithadhoo      MV  -0.6000   73.0833     82.71        75   \n",
       "26           26       Auki      SB  -8.7676  160.7034     80.33        85   \n",
       "28           28      Alofi      NU -19.0595 -169.9187     82.29        74   \n",
       "32           32      Kapaa      US  22.0752 -159.3190     81.12        72   \n",
       "33           33     Faanui      PF -16.4833 -151.7500     80.33        70   \n",
       "..          ...        ...     ...      ...       ...       ...       ...   \n",
       "677         677     Dwarka      IN  22.2394   68.9678     83.43        78   \n",
       "688         688   Teahupoo      PF -17.8333 -149.2667     80.56        75   \n",
       "693         693   Ishigaki      JP  24.3448  124.1572     82.04        78   \n",
       "697         697      Metro      ID  -5.1131  105.3067     84.87        68   \n",
       "699         699    Awjilah      LY  29.1081   21.2869     82.02        22   \n",
       "\n",
       "     Cloudiness  Wind Speed Current Description  \n",
       "8           100       16.24     overcast clouds  \n",
       "26           94        5.35          light rain  \n",
       "28           33        6.91    scattered clouds  \n",
       "32           21        1.99          few clouds  \n",
       "33           23        1.10          few clouds  \n",
       "..          ...         ...                 ...  \n",
       "677         100       14.14     overcast clouds  \n",
       "688          81        1.63          light rain  \n",
       "693          86        9.17     overcast clouds  \n",
       "697          89        5.93     overcast clouds  \n",
       "699          21        6.67          few clouds  \n",
       "\n",
       "[90 rows x 10 columns]"
      ],
      "text/html": "<div>\n<style scoped>\n    .dataframe tbody tr th:only-of-type {\n        vertical-align: middle;\n    }\n\n    .dataframe tbody tr th {\n        vertical-align: top;\n    }\n\n    .dataframe thead th {\n        text-align: right;\n    }\n</style>\n<table border=\"1\" class=\"dataframe\">\n  <thead>\n    <tr style=\"text-align: right;\">\n      <th></th>\n      <th>Unnamed: 0</th>\n      <th>City</th>\n      <th>Country</th>\n      <th>Lat</th>\n      <th>Log</th>\n      <th>Max Temp</th>\n      <th>Humidity</th>\n      <th>Cloudiness</th>\n      <th>Wind Speed</th>\n      <th>Current Description</th>\n    </tr>\n  </thead>\n  <tbody>\n    <tr>\n      <th>8</th>\n      <td>8</td>\n      <td>Hithadhoo</td>\n      <td>MV</td>\n      <td>-0.6000</td>\n      <td>73.0833</td>\n      <td>82.71</td>\n      <td>75</td>\n      <td>100</td>\n      <td>16.24</td>\n      <td>overcast clouds</td>\n    </tr>\n    <tr>\n      <th>26</th>\n      <td>26</td>\n      <td>Auki</td>\n      <td>SB</td>\n      <td>-8.7676</td>\n      <td>160.7034</td>\n      <td>80.33</td>\n      <td>85</td>\n      <td>94</td>\n      <td>5.35</td>\n      <td>light rain</td>\n    </tr>\n    <tr>\n      <th>28</th>\n      <td>28</td>\n      <td>Alofi</td>\n      <td>NU</td>\n      <td>-19.0595</td>\n      <td>-169.9187</td>\n      <td>82.29</td>\n      <td>74</td>\n      <td>33</td>\n      <td>6.91</td>\n      <td>scattered clouds</td>\n    </tr>\n    <tr>\n      <th>32</th>\n      <td>32</td>\n      <td>Kapaa</td>\n      <td>US</td>\n      <td>22.0752</td>\n      <td>-159.3190</td>\n      <td>81.12</td>\n      <td>72</td>\n      <td>21</td>\n      <td>1.99</td>\n      <td>few clouds</td>\n    </tr>\n    <tr>\n      <th>33</th>\n      <td>33</td>\n      <td>Faanui</td>\n      <td>PF</td>\n      <td>-16.4833</td>\n      <td>-151.7500</td>\n      <td>80.33</td>\n      <td>70</td>\n      <td>23</td>\n      <td>1.10</td>\n      <td>few clouds</td>\n    </tr>\n    <tr>\n      <th>...</th>\n      <td>...</td>\n      <td>...</td>\n      <td>...</td>\n      <td>...</td>\n      <td>...</td>\n      <td>...</td>\n      <td>...</td>\n      <td>...</td>\n      <td>...</td>\n      <td>...</td>\n    </tr>\n    <tr>\n      <th>677</th>\n      <td>677</td>\n      <td>Dwarka</td>\n      <td>IN</td>\n      <td>22.2394</td>\n      <td>68.9678</td>\n      <td>83.43</td>\n      <td>78</td>\n      <td>100</td>\n      <td>14.14</td>\n      <td>overcast clouds</td>\n    </tr>\n    <tr>\n      <th>688</th>\n      <td>688</td>\n      <td>Teahupoo</td>\n      <td>PF</td>\n      <td>-17.8333</td>\n      <td>-149.2667</td>\n      <td>80.56</td>\n      <td>75</td>\n      <td>81</td>\n      <td>1.63</td>\n      <td>light rain</td>\n    </tr>\n    <tr>\n      <th>693</th>\n      <td>693</td>\n      <td>Ishigaki</td>\n      <td>JP</td>\n      <td>24.3448</td>\n      <td>124.1572</td>\n      <td>82.04</td>\n      <td>78</td>\n      <td>86</td>\n      <td>9.17</td>\n      <td>overcast clouds</td>\n    </tr>\n    <tr>\n      <th>697</th>\n      <td>697</td>\n      <td>Metro</td>\n      <td>ID</td>\n      <td>-5.1131</td>\n      <td>105.3067</td>\n      <td>84.87</td>\n      <td>68</td>\n      <td>89</td>\n      <td>5.93</td>\n      <td>overcast clouds</td>\n    </tr>\n    <tr>\n      <th>699</th>\n      <td>699</td>\n      <td>Awjilah</td>\n      <td>LY</td>\n      <td>29.1081</td>\n      <td>21.2869</td>\n      <td>82.02</td>\n      <td>22</td>\n      <td>21</td>\n      <td>6.67</td>\n      <td>few clouds</td>\n    </tr>\n  </tbody>\n</table>\n<p>90 rows × 10 columns</p>\n</div>"
     },
     "metadata": {},
     "execution_count": 61
    }
   ],
   "source": [
    "# 4b. Drop any empty rows and create a new DataFrame that doesn’t have empty rows.\n",
    "preferred_cities_df.dropna()"
   ]
  },
  {
   "cell_type": "code",
   "execution_count": 55,
   "metadata": {},
   "outputs": [
    {
     "output_type": "execute_result",
     "data": {
      "text/plain": [
       "            City Country  Max Temp Current Description      Lat       Log  \\\n",
       "8      Hithadhoo      MV     82.71     overcast clouds  -0.6000   73.0833   \n",
       "26          Auki      SB     80.33          light rain  -8.7676  160.7034   \n",
       "28         Alofi      NU     82.29    scattered clouds -19.0595 -169.9187   \n",
       "32         Kapaa      US     81.12          few clouds  22.0752 -159.3190   \n",
       "33        Faanui      PF     80.33          few clouds -16.4833 -151.7500   \n",
       "62   Las Choapas      MX     80.91    scattered clouds  17.9333  -94.0833   \n",
       "68  Port Hedland      AU     80.65     overcast clouds -20.3167  118.5667   \n",
       "85        Sorong      ID     83.82          few clouds  -0.8833  131.2500   \n",
       "88        Avarua      CK     80.65     overcast clouds -21.2078 -159.7750   \n",
       "95    Butaritari      KI     82.89          light rain   3.0707  172.7902   \n",
       "\n",
       "   Hotel Name  \n",
       "8        None  \n",
       "26       None  \n",
       "28       None  \n",
       "32       None  \n",
       "33       None  \n",
       "62       None  \n",
       "68       None  \n",
       "85       None  \n",
       "88       None  \n",
       "95       None  "
      ],
      "text/html": "<div>\n<style scoped>\n    .dataframe tbody tr th:only-of-type {\n        vertical-align: middle;\n    }\n\n    .dataframe tbody tr th {\n        vertical-align: top;\n    }\n\n    .dataframe thead th {\n        text-align: right;\n    }\n</style>\n<table border=\"1\" class=\"dataframe\">\n  <thead>\n    <tr style=\"text-align: right;\">\n      <th></th>\n      <th>City</th>\n      <th>Country</th>\n      <th>Max Temp</th>\n      <th>Current Description</th>\n      <th>Lat</th>\n      <th>Log</th>\n      <th>Hotel Name</th>\n    </tr>\n  </thead>\n  <tbody>\n    <tr>\n      <th>8</th>\n      <td>Hithadhoo</td>\n      <td>MV</td>\n      <td>82.71</td>\n      <td>overcast clouds</td>\n      <td>-0.6000</td>\n      <td>73.0833</td>\n      <td>None</td>\n    </tr>\n    <tr>\n      <th>26</th>\n      <td>Auki</td>\n      <td>SB</td>\n      <td>80.33</td>\n      <td>light rain</td>\n      <td>-8.7676</td>\n      <td>160.7034</td>\n      <td>None</td>\n    </tr>\n    <tr>\n      <th>28</th>\n      <td>Alofi</td>\n      <td>NU</td>\n      <td>82.29</td>\n      <td>scattered clouds</td>\n      <td>-19.0595</td>\n      <td>-169.9187</td>\n      <td>None</td>\n    </tr>\n    <tr>\n      <th>32</th>\n      <td>Kapaa</td>\n      <td>US</td>\n      <td>81.12</td>\n      <td>few clouds</td>\n      <td>22.0752</td>\n      <td>-159.3190</td>\n      <td>None</td>\n    </tr>\n    <tr>\n      <th>33</th>\n      <td>Faanui</td>\n      <td>PF</td>\n      <td>80.33</td>\n      <td>few clouds</td>\n      <td>-16.4833</td>\n      <td>-151.7500</td>\n      <td>None</td>\n    </tr>\n    <tr>\n      <th>62</th>\n      <td>Las Choapas</td>\n      <td>MX</td>\n      <td>80.91</td>\n      <td>scattered clouds</td>\n      <td>17.9333</td>\n      <td>-94.0833</td>\n      <td>None</td>\n    </tr>\n    <tr>\n      <th>68</th>\n      <td>Port Hedland</td>\n      <td>AU</td>\n      <td>80.65</td>\n      <td>overcast clouds</td>\n      <td>-20.3167</td>\n      <td>118.5667</td>\n      <td>None</td>\n    </tr>\n    <tr>\n      <th>85</th>\n      <td>Sorong</td>\n      <td>ID</td>\n      <td>83.82</td>\n      <td>few clouds</td>\n      <td>-0.8833</td>\n      <td>131.2500</td>\n      <td>None</td>\n    </tr>\n    <tr>\n      <th>88</th>\n      <td>Avarua</td>\n      <td>CK</td>\n      <td>80.65</td>\n      <td>overcast clouds</td>\n      <td>-21.2078</td>\n      <td>-159.7750</td>\n      <td>None</td>\n    </tr>\n    <tr>\n      <th>95</th>\n      <td>Butaritari</td>\n      <td>KI</td>\n      <td>82.89</td>\n      <td>light rain</td>\n      <td>3.0707</td>\n      <td>172.7902</td>\n      <td>None</td>\n    </tr>\n  </tbody>\n</table>\n</div>"
     },
     "metadata": {},
     "execution_count": 55
    }
   ],
   "source": [
    "# 5a. Create DataFrame called hotel_df to store hotel names along with city, country, max temp, and coordinates.\n",
    "hotel_df = preferred_cities_df[[\"City\", \"Country\", \"Max Temp\", \"Current Description\", \"Lat\", \"Log\"]].copy()\n",
    "\n",
    "# 5b. Create a new column \"Hotel Name\"\n",
    "hotel_df[\"Hotel Name\"] = None\n",
    "hotel_df.head(10)"
   ]
  },
  {
   "cell_type": "code",
   "execution_count": 63,
   "metadata": {},
   "outputs": [
    {
     "output_type": "error",
     "ename": "KeyError",
     "evalue": "\"None of ['index'] are in the columns\"",
     "traceback": [
      "\u001b[1;31m---------------------------------------------------------------------------\u001b[0m",
      "\u001b[1;31mKeyError\u001b[0m                                  Traceback (most recent call last)",
      "\u001b[1;32m<ipython-input-63-82576c2726cd>\u001b[0m in \u001b[0;36m<module>\u001b[1;34m\u001b[0m\n\u001b[1;32m----> 1\u001b[1;33m \u001b[0mhotel_df\u001b[0m \u001b[1;33m=\u001b[0m \u001b[0mhotel_df\u001b[0m\u001b[1;33m.\u001b[0m\u001b[0mset_index\u001b[0m\u001b[1;33m(\u001b[0m\u001b[1;33m[\u001b[0m\u001b[1;34m'index'\u001b[0m\u001b[1;33m]\u001b[0m\u001b[1;33m)\u001b[0m\u001b[1;33m\u001b[0m\u001b[1;33m\u001b[0m\u001b[0m\n\u001b[0m",
      "\u001b[1;32m~\\anaconda3\\envs\\PythonData\\lib\\site-packages\\pandas\\core\\frame.py\u001b[0m in \u001b[0;36mset_index\u001b[1;34m(self, keys, drop, append, inplace, verify_integrity)\u001b[0m\n\u001b[0;32m   4549\u001b[0m \u001b[1;33m\u001b[0m\u001b[0m\n\u001b[0;32m   4550\u001b[0m         \u001b[1;32mif\u001b[0m \u001b[0mmissing\u001b[0m\u001b[1;33m:\u001b[0m\u001b[1;33m\u001b[0m\u001b[1;33m\u001b[0m\u001b[0m\n\u001b[1;32m-> 4551\u001b[1;33m             \u001b[1;32mraise\u001b[0m \u001b[0mKeyError\u001b[0m\u001b[1;33m(\u001b[0m\u001b[1;34mf\"None of {missing} are in the columns\"\u001b[0m\u001b[1;33m)\u001b[0m\u001b[1;33m\u001b[0m\u001b[1;33m\u001b[0m\u001b[0m\n\u001b[0m\u001b[0;32m   4552\u001b[0m \u001b[1;33m\u001b[0m\u001b[0m\n\u001b[0;32m   4553\u001b[0m         \u001b[1;32mif\u001b[0m \u001b[0minplace\u001b[0m\u001b[1;33m:\u001b[0m\u001b[1;33m\u001b[0m\u001b[1;33m\u001b[0m\u001b[0m\n",
      "\u001b[1;31mKeyError\u001b[0m: \"None of ['index'] are in the columns\""
     ]
    }
   ],
   "source": [
    "hotel_df = hotel_df.set_index(['index'])"
   ]
  },
  {
   "cell_type": "code",
   "execution_count": 66,
   "metadata": {
    "tags": []
   },
   "outputs": [
    {
     "output_type": "stream",
     "name": "stdout",
     "text": [
      "8\n",
      "Scoop Guest House\n",
      "26\n",
      "Auki Motel\n",
      "28\n",
      "Taloa Heights\n",
      "32\n",
      "Sheraton Kauai Coconut Beach Resort\n",
      "33\n",
      "Bora-Bora Pearl Beach Resort & Spa\n",
      "62\n",
      "Hotel Jysmak\n",
      "68\n",
      "The Esplanade Hotel\n",
      "85\n",
      "waigo splash hotel\n",
      "88\n",
      "Paradise Inn\n",
      "95\n",
      "Isles Sunset Lodge\n",
      "98\n",
      "Paradise Bay Resort\n",
      "103\n",
      "KOSAN UNGU UNSIK\n",
      "107\n",
      "The Jamaica Pegasus Hotel\n",
      "110\n",
      "Hotel RIKMAN Continental\n",
      "127\n",
      "Hotels in Lakshadweep Islands\n",
      "131\n",
      "Shwe Phyu Hotel\n",
      "135\n",
      "ibis Styles Karratha\n",
      "144\n",
      "Storyboard Beach Resort\n",
      "146\n",
      "Groote Eylandt Lodge\n",
      "153\n",
      "Marriott's Ko Olina Beach Club\n",
      "158\n",
      "Gulisitan Hotel\n",
      "161\n",
      "فندق الله جابو\n",
      "165\n",
      "فندق أوباري\n",
      "166\n",
      "University Inn & Suites\n",
      "172\n",
      "Tinidee Hotel@Ranong\n",
      "173\n",
      "Aldea del Bazar Hotel and Spa\n",
      "176\n",
      "Holiday Inn Express & Suites Elk Grove Central - Hwy 99, an IHG Hotel\n",
      "181\n",
      "Case de Passage De la Prefecture\n",
      "183\n",
      "Airport Lodge Kiunga\n",
      "192\n",
      "Bungalow 63\n",
      "195\n",
      "Hotel Quinta Antigua\n",
      "217\n",
      "Shimoda Tokyu Hotel\n",
      "225\n",
      "Hotel Atoll Emerald Miyakojima\n",
      "229\n",
      "Ungoofaaru Inn\n",
      "230\n",
      "Welcomhotel By ITC Hotels, Bay Island, Port Blair\n",
      "232\n",
      "Niyama Private Islands Maldives\n",
      "234\n",
      "Grand Palladium Jamaica Resort & Spa\n",
      "244\n",
      "HS Hotsson Smart Acapulco\n",
      "254\n",
      "Kandrian Station\n",
      "255\n",
      "Pin Drop Hotel\n",
      "262\n",
      "Propiedad Lldm\n",
      "275\n",
      "Wangjiang Building\n",
      "280\n",
      "291\n",
      "Days Inn by Wyndham Turlock\n",
      "301\n",
      "Cubanacan San Felix\n",
      "311\n",
      "Villa Arte Pousada Morro Branco\n",
      "316\n",
      "Divi Flamingo Beach Resort & Casino\n",
      "320\n",
      "Tsukigawaso Camping Ground\n",
      "325\n",
      "330\n",
      "Maitai Lapita Village Huahine\n",
      "362\n",
      "363\n",
      "Hotel Plaza Marsol\n",
      "376\n",
      "صاحبة الفخامة\n",
      "383\n",
      "Motel 6 Sinton, TX\n",
      "387\n",
      "Palais du chef Canton Salamt\n",
      "396\n",
      "414\n",
      "Mercure Padang\n",
      "416\n",
      "425\n",
      "East Arnhem Real Estate\n",
      "427\n",
      "Casa de Isabella\n",
      "429\n",
      "JM Lodge\n",
      "445\n",
      "478\n",
      "Pudong Holiday Hotel\n",
      "483\n",
      "The Passage Samui Villas & Resort, Thailand\n",
      "484\n",
      "495\n",
      "502\n",
      "Amaloh Boutique Resort\n",
      "503\n",
      "HAMDAN PLAZA HOTEL SALALAH\n",
      "517\n",
      "525\n",
      "Penginapan Kim\n",
      "530\n",
      "Swiss-Belhotel Ambon\n",
      "540\n",
      "asi es\n",
      "545\n",
      "A Beach Retreat On Casey Key\n",
      "566\n",
      "Morales Lodge\n",
      "581\n",
      "Rabaul Hotel\n",
      "589\n",
      "Laoyutang Resort\n",
      "592\n",
      "Ikathouse\n",
      "601\n",
      "Tateyama Seaside Hotel\n",
      "614\n",
      "620\n",
      "Holiday Inn Shaoxing\n",
      "632\n",
      "Crowne Plaza Ordos\n",
      "645\n",
      "Ramah Kost KITA\n",
      "649\n",
      "HOTEL ISABELA\n",
      "650\n",
      "Applegate Inn\n",
      "656\n",
      "677\n",
      "Hotel Narayan Avezika Comfort\n",
      "688\n",
      "Vanira Lodge\n",
      "693\n",
      "Hotel Peace Land Ishigakijima\n",
      "697\n",
      "OYO 3177 Wisma Lintang\n",
      "699\n"
     ]
    }
   ],
   "source": [
    "# 6a. Set parameters to search for hotels with 5000 meters.\n",
    "params = {\n",
    "    \"radius\": 5000,\n",
    "    \"type\": \"lodging\",\n",
    "    \"key\": g_key\n",
    "}\n",
    "count = 0\n",
    "# 6b. Iterate through the hotel DataFrame.\n",
    "for index, row in hotel_df.iterrows():\n",
    "    print(index)\n",
    "    # 6c. Get latitude and longitude from DataFrame\n",
    "    lat = row[\"Lat\"]\n",
    "    log = row[\"Log\"]\n",
    "    params[\"location\"] = f\"{lat},{log}\"\n",
    "\n",
    "    # 6d. Set up the base URL for the Google Directions API to get JSON data.\n",
    "    base_url = \"https://maps.googleapis.com/maps/api/place/nearbysearch/json\"\n",
    "\n",
    "    # 6e. Make request and retrieve the JSON data from the search. \n",
    "    hotels = requests.get(base_url, params=params).json()\n",
    "\n",
    "    try:\n",
    "        if hotels[\"results\"] != []:\n",
    "            print(hotels[\"results\"][0][\"name\"])\n",
    "            hotel_df.loc[index, \"Hotel Name\"] = hotels[\"results\"][0][\"name\"]\n",
    "    except (IndexError):\n",
    "        print(\"Hotel not found... skipping.\")\n",
    "\n",
    "    # 6f. Get the first hotel from the results and store the name, if a hotel isn't found skip the city.\n",
    "    # try:\n",
    "    #    hotel_df.loc[index, \"Hotel Name\"] = hotels[\"results\"][0][\"name\"]\n",
    "    # except (IndexError):\n",
    "    #    print(\"Hotel not found... skipping.\")\n",
    "        "
   ]
  },
  {
   "cell_type": "code",
   "execution_count": 71,
   "metadata": {},
   "outputs": [
    {
     "output_type": "execute_result",
     "data": {
      "text/plain": [
       "          City Country  Max Temp Current Description      Lat       Log  \\\n",
       "8    Hithadhoo      MV     82.71     overcast clouds  -0.6000   73.0833   \n",
       "26        Auki      SB     80.33          light rain  -8.7676  160.7034   \n",
       "28       Alofi      NU     82.29    scattered clouds -19.0595 -169.9187   \n",
       "32       Kapaa      US     81.12          few clouds  22.0752 -159.3190   \n",
       "33      Faanui      PF     80.33          few clouds -16.4833 -151.7500   \n",
       "..         ...     ...       ...                 ...      ...       ...   \n",
       "650    Atwater      US     82.51           clear sky  37.3477 -120.6091   \n",
       "677     Dwarka      IN     83.43     overcast clouds  22.2394   68.9678   \n",
       "688   Teahupoo      PF     80.56          light rain -17.8333 -149.2667   \n",
       "693   Ishigaki      JP     82.04     overcast clouds  24.3448  124.1572   \n",
       "697      Metro      ID     84.87     overcast clouds  -5.1131  105.3067   \n",
       "\n",
       "                              Hotel Name  \n",
       "8                      Scoop Guest House  \n",
       "26                            Auki Motel  \n",
       "28                         Taloa Heights  \n",
       "32   Sheraton Kauai Coconut Beach Resort  \n",
       "33    Bora-Bora Pearl Beach Resort & Spa  \n",
       "..                                   ...  \n",
       "650                        Applegate Inn  \n",
       "677        Hotel Narayan Avezika Comfort  \n",
       "688                         Vanira Lodge  \n",
       "693        Hotel Peace Land Ishigakijima  \n",
       "697               OYO 3177 Wisma Lintang  \n",
       "\n",
       "[78 rows x 7 columns]"
      ],
      "text/html": "<div>\n<style scoped>\n    .dataframe tbody tr th:only-of-type {\n        vertical-align: middle;\n    }\n\n    .dataframe tbody tr th {\n        vertical-align: top;\n    }\n\n    .dataframe thead th {\n        text-align: right;\n    }\n</style>\n<table border=\"1\" class=\"dataframe\">\n  <thead>\n    <tr style=\"text-align: right;\">\n      <th></th>\n      <th>City</th>\n      <th>Country</th>\n      <th>Max Temp</th>\n      <th>Current Description</th>\n      <th>Lat</th>\n      <th>Log</th>\n      <th>Hotel Name</th>\n    </tr>\n  </thead>\n  <tbody>\n    <tr>\n      <th>8</th>\n      <td>Hithadhoo</td>\n      <td>MV</td>\n      <td>82.71</td>\n      <td>overcast clouds</td>\n      <td>-0.6000</td>\n      <td>73.0833</td>\n      <td>Scoop Guest House</td>\n    </tr>\n    <tr>\n      <th>26</th>\n      <td>Auki</td>\n      <td>SB</td>\n      <td>80.33</td>\n      <td>light rain</td>\n      <td>-8.7676</td>\n      <td>160.7034</td>\n      <td>Auki Motel</td>\n    </tr>\n    <tr>\n      <th>28</th>\n      <td>Alofi</td>\n      <td>NU</td>\n      <td>82.29</td>\n      <td>scattered clouds</td>\n      <td>-19.0595</td>\n      <td>-169.9187</td>\n      <td>Taloa Heights</td>\n    </tr>\n    <tr>\n      <th>32</th>\n      <td>Kapaa</td>\n      <td>US</td>\n      <td>81.12</td>\n      <td>few clouds</td>\n      <td>22.0752</td>\n      <td>-159.3190</td>\n      <td>Sheraton Kauai Coconut Beach Resort</td>\n    </tr>\n    <tr>\n      <th>33</th>\n      <td>Faanui</td>\n      <td>PF</td>\n      <td>80.33</td>\n      <td>few clouds</td>\n      <td>-16.4833</td>\n      <td>-151.7500</td>\n      <td>Bora-Bora Pearl Beach Resort &amp; Spa</td>\n    </tr>\n    <tr>\n      <th>...</th>\n      <td>...</td>\n      <td>...</td>\n      <td>...</td>\n      <td>...</td>\n      <td>...</td>\n      <td>...</td>\n      <td>...</td>\n    </tr>\n    <tr>\n      <th>650</th>\n      <td>Atwater</td>\n      <td>US</td>\n      <td>82.51</td>\n      <td>clear sky</td>\n      <td>37.3477</td>\n      <td>-120.6091</td>\n      <td>Applegate Inn</td>\n    </tr>\n    <tr>\n      <th>677</th>\n      <td>Dwarka</td>\n      <td>IN</td>\n      <td>83.43</td>\n      <td>overcast clouds</td>\n      <td>22.2394</td>\n      <td>68.9678</td>\n      <td>Hotel Narayan Avezika Comfort</td>\n    </tr>\n    <tr>\n      <th>688</th>\n      <td>Teahupoo</td>\n      <td>PF</td>\n      <td>80.56</td>\n      <td>light rain</td>\n      <td>-17.8333</td>\n      <td>-149.2667</td>\n      <td>Vanira Lodge</td>\n    </tr>\n    <tr>\n      <th>693</th>\n      <td>Ishigaki</td>\n      <td>JP</td>\n      <td>82.04</td>\n      <td>overcast clouds</td>\n      <td>24.3448</td>\n      <td>124.1572</td>\n      <td>Hotel Peace Land Ishigakijima</td>\n    </tr>\n    <tr>\n      <th>697</th>\n      <td>Metro</td>\n      <td>ID</td>\n      <td>84.87</td>\n      <td>overcast clouds</td>\n      <td>-5.1131</td>\n      <td>105.3067</td>\n      <td>OYO 3177 Wisma Lintang</td>\n    </tr>\n  </tbody>\n</table>\n<p>78 rows × 7 columns</p>\n</div>"
     },
     "metadata": {},
     "execution_count": 71
    }
   ],
   "source": [
    "# 7. Drop the rows where there is no Hotel Name.\n",
    "clean_hotel_df = hotel_df.dropna()\n",
    "clean_hotel_df"
   ]
  },
  {
   "cell_type": "code",
   "execution_count": 75,
   "metadata": {},
   "outputs": [],
   "source": [
    "# 8a. Create the output File (CSV)\n",
    "output_data_file = \"WeatherPy_vacation.csv\"\n",
    "# 8b. Export the City_Data into a csv\n",
    "clean_hotel_df.to_csv(output_data_file, index_label=\"City_ID\")"
   ]
  },
  {
   "cell_type": "code",
   "execution_count": 76,
   "metadata": {},
   "outputs": [],
   "source": [
    "# 9. Using the template add city name, the country code, the weather description and maximum temperature for the city.\n",
    "info_box_template = \"\"\"\n",
    "<dl>\n",
    "<dt>Hotel Name</dt><dd>{Hotel Name}</dd>\n",
    "<dt>City</dt><dd>{City}</dd>\n",
    "<dt>Country</dt><dd>{Country}</dd>\n",
    "<dt>Current Weather</dt><dd>{Current Description} and {Max Temp} °F</dd>\n",
    "</dl>\n",
    "\"\"\"\n",
    "\n",
    "# 10a. Get the data from each row and add it to the formatting template and store the data in a list.\n",
    "hotel_info = [info_box_template.format(**row) for index, row in clean_hotel_df.iterrows()]\n",
    "\n",
    "# 10b. Get the latitude and longitude from each row and store in a new DataFrame.\n",
    "locations = clean_hotel_df[[\"Lat\", \"Log\"]]"
   ]
  },
  {
   "cell_type": "code",
   "execution_count": 77,
   "metadata": {},
   "outputs": [
    {
     "output_type": "display_data",
     "data": {
      "text/plain": "Figure(layout=FigureLayout(height='420px'))",
      "application/vnd.jupyter.widget-view+json": {
       "version_major": 2,
       "version_minor": 0,
       "model_id": "a0c819248002448b9443cae488037ad6"
      }
     },
     "metadata": {}
    }
   ],
   "source": [
    "# 11a. Add a marker layer for each city to the map. \n",
    "fig = gmaps.figure(center=(30.0, 31.0), zoom_level=1.5)\n",
    "marker_layer = gmaps.marker_layer(locations, info_box_content=hotel_info)\n",
    "fig.add_layer(marker_layer)\n",
    "# 11b. Display the figure\n",
    "fig"
   ]
  }
 ],
 "metadata": {
  "kernelspec": {
   "name": "python379jvsc74a57bd090674d70ac3d7b8e4470e0eb8840b2e3f39de2bbaee128fada397c94c4f7beb5",
   "display_name": "Python 3.7.9 64-bit ('PythonData': conda)"
  },
  "language_info": {
   "codemirror_mode": {
    "name": "ipython",
    "version": 3
   },
   "file_extension": ".py",
   "mimetype": "text/x-python",
   "name": "python",
   "nbconvert_exporter": "python",
   "pygments_lexer": "ipython3",
   "version": "3.7.9"
  },
  "latex_envs": {
   "LaTeX_envs_menu_present": true,
   "autoclose": false,
   "autocomplete": true,
   "bibliofile": "biblio.bib",
   "cite_by": "apalike",
   "current_citInitial": 1,
   "eqLabelWithNumbers": true,
   "eqNumInitial": 1,
   "hotkeys": {
    "equation": "Ctrl-E",
    "itemize": "Ctrl-I"
   },
   "labels_anchors": false,
   "latex_user_defs": false,
   "report_style_numbering": false,
   "user_envs_cfg": false
  }
 },
 "nbformat": 4,
 "nbformat_minor": 2
}