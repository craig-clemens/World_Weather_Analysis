{
 "cells": [
  {
   "cell_type": "markdown",
   "metadata": {},
   "source": [
    "## Deliverable 3. Create a Travel Itinerary Map."
   ]
  },
  {
   "cell_type": "code",
   "execution_count": 2,
   "metadata": {},
   "outputs": [],
   "source": [
    "# Dependencies and Setup\n",
    "import pandas as pd\n",
    "import requests\n",
    "import gmaps\n",
    "\n",
    "# Import API key\n",
    "from config import g_key\n",
    "\n",
    "# Configure gmaps\n",
    "gmaps.configure(api_key=g_key)"
   ]
  },
  {
   "cell_type": "code",
   "execution_count": 4,
   "metadata": {},
   "outputs": [
    {
     "output_type": "execute_result",
     "data": {
      "text/plain": [
       "   City_ID       City Country  Max Temp Current Description      Lat  \\\n",
       "0        8  Hithadhoo      MV     82.71     overcast clouds  -0.6000   \n",
       "1       26       Auki      SB     80.33          light rain  -8.7676   \n",
       "2       28      Alofi      NU     82.29    scattered clouds -19.0595   \n",
       "3       32      Kapaa      US     81.12          few clouds  22.0752   \n",
       "4       33     Faanui      PF     80.33          few clouds -16.4833   \n",
       "\n",
       "        Log                           Hotel Name  \n",
       "0   73.0833                    Scoop Guest House  \n",
       "1  160.7034                           Auki Motel  \n",
       "2 -169.9187                        Taloa Heights  \n",
       "3 -159.3190  Sheraton Kauai Coconut Beach Resort  \n",
       "4 -151.7500   Bora-Bora Pearl Beach Resort & Spa  "
      ],
      "text/html": "<div>\n<style scoped>\n    .dataframe tbody tr th:only-of-type {\n        vertical-align: middle;\n    }\n\n    .dataframe tbody tr th {\n        vertical-align: top;\n    }\n\n    .dataframe thead th {\n        text-align: right;\n    }\n</style>\n<table border=\"1\" class=\"dataframe\">\n  <thead>\n    <tr style=\"text-align: right;\">\n      <th></th>\n      <th>City_ID</th>\n      <th>City</th>\n      <th>Country</th>\n      <th>Max Temp</th>\n      <th>Current Description</th>\n      <th>Lat</th>\n      <th>Log</th>\n      <th>Hotel Name</th>\n    </tr>\n  </thead>\n  <tbody>\n    <tr>\n      <th>0</th>\n      <td>8</td>\n      <td>Hithadhoo</td>\n      <td>MV</td>\n      <td>82.71</td>\n      <td>overcast clouds</td>\n      <td>-0.6000</td>\n      <td>73.0833</td>\n      <td>Scoop Guest House</td>\n    </tr>\n    <tr>\n      <th>1</th>\n      <td>26</td>\n      <td>Auki</td>\n      <td>SB</td>\n      <td>80.33</td>\n      <td>light rain</td>\n      <td>-8.7676</td>\n      <td>160.7034</td>\n      <td>Auki Motel</td>\n    </tr>\n    <tr>\n      <th>2</th>\n      <td>28</td>\n      <td>Alofi</td>\n      <td>NU</td>\n      <td>82.29</td>\n      <td>scattered clouds</td>\n      <td>-19.0595</td>\n      <td>-169.9187</td>\n      <td>Taloa Heights</td>\n    </tr>\n    <tr>\n      <th>3</th>\n      <td>32</td>\n      <td>Kapaa</td>\n      <td>US</td>\n      <td>81.12</td>\n      <td>few clouds</td>\n      <td>22.0752</td>\n      <td>-159.3190</td>\n      <td>Sheraton Kauai Coconut Beach Resort</td>\n    </tr>\n    <tr>\n      <th>4</th>\n      <td>33</td>\n      <td>Faanui</td>\n      <td>PF</td>\n      <td>80.33</td>\n      <td>few clouds</td>\n      <td>-16.4833</td>\n      <td>-151.7500</td>\n      <td>Bora-Bora Pearl Beach Resort &amp; Spa</td>\n    </tr>\n  </tbody>\n</table>\n</div>"
     },
     "metadata": {},
     "execution_count": 4
    }
   ],
   "source": [
    "# 1. Read the WeatherPy_vacation.csv into a DataFrame.\n",
    "clean_hotel_df = pd.read_csv(\"../Vacation_Search/WeatherPy_vacation.csv\")\n",
    "clean_hotel_df.head()"
   ]
  },
  {
   "cell_type": "code",
   "execution_count": 5,
   "metadata": {},
   "outputs": [],
   "source": [
    "# 2. Using the template add the city name, the country code, the weather description and maximum temperature for the city.\n",
    "info_box_template = \"\"\"\n",
    "<dl>\n",
    "<dt>City</dt><dd>{City}</dd>\n",
    "<dt>Country</dt><dd>{Country}</dd>\n",
    "<dt>Current Weather</dt><dd>{Current Description} and {Max Temp} °F</dd>\n",
    "</dl>\n",
    "\"\"\"\n",
    "\n",
    "# 3a. Get the data from each row and add it to the formatting template and store the data in a list.\n",
    "hotel_info = [info_box_template.format(**row) for index, row in clean_hotel_df.iterrows()]\n",
    "\n",
    "# 3b. Get the latitude and longitude from each row and store in a new DataFrame.\n",
    "locations = clean_hotel_df[[\"Lat\", \"Log\"]]"
   ]
  },
  {
   "cell_type": "code",
   "execution_count": 6,
   "metadata": {},
   "outputs": [
    {
     "output_type": "display_data",
     "data": {
      "text/plain": "Figure(layout=FigureLayout(height='420px'))",
      "application/vnd.jupyter.widget-view+json": {
       "version_major": 2,
       "version_minor": 0,
       "model_id": "bd008eb490bf4d1a8f455b4822b6c831"
      }
     },
     "metadata": {}
    }
   ],
   "source": [
    "# 4a. Add a marker layer for each city to the map.\n",
    "fig = gmaps.figure(center=(30.0, 31.0), zoom_level=1.5)\n",
    "marker_layer = gmaps.marker_layer(locations, info_box_content=hotel_info)\n",
    "fig.add_layer(marker_layer)\n",
    "# 4b. Display the figure\n",
    "\n",
    "fig"
   ]
  },
  {
   "cell_type": "code",
   "execution_count": 8,
   "metadata": {},
   "outputs": [],
   "source": [
    "# From the map above pick 4 cities and create a vacation itinerary route to travel between the four cities. \n",
    "# 5. Create DataFrames for each city by filtering the 'vacation_df' using the loc method. \n",
    "# Hint: The starting and ending city should be the same city.\n",
    "\n",
    "vacation_start = vacation_df.loc[clean_hotel_df['City'] == 'Lazaro Cardenas']\n",
    "vacation_end = vacation_df.loc[clean_hotel_df['City'] == 'Lazaro Cardenas']\n",
    "vacation_stop1 = vacation_df.loc[clean_hotel_df['City'] == 'Acapulco']\n",
    "vacation_stop2 = vacation_df.loc[clean_hotel_df['City'] == 'Puerto Escondido']\n",
    "vacation_stop3 = vacation_df.loc[clean_hotel_df['City'] == 'Tecolutla']"
   ]
  },
  {
   "cell_type": "code",
   "execution_count": 9,
   "metadata": {},
   "outputs": [],
   "source": [
    "# 6. Get the latitude-longitude pairs as tuples from each city DataFrame using the to_numpy function and list indexing.\n",
    "start = (vacation_start['Lat'].to_numpy()[0], vacation_start['Log'].to_numpy()[0])\n",
    "end = (vacation_end['Lat'].to_numpy()[0], vacation_end['Log'].to_numpy()[0])\n",
    "stop1 = (vacation_stop1['Lat'].to_numpy()[0], vacation_stop1['Log'].to_numpy()[0])\n",
    "stop2 = (vacation_stop2['Lat'].to_numpy()[0], vacation_stop2['Log'].to_numpy()[0])\n",
    "stop3 = (vacation_stop3['Lat'].to_numpy()[0], vacation_stop3['Log'].to_numpy()[0])"
   ]
  },
  {
   "cell_type": "code",
   "execution_count": 10,
   "metadata": {
    "scrolled": true
   },
   "outputs": [
    {
     "output_type": "display_data",
     "data": {
      "text/plain": "Figure(layout=FigureLayout(height='420px'))",
      "application/vnd.jupyter.widget-view+json": {
       "version_major": 2,
       "version_minor": 0,
       "model_id": "194864e042174a79a47ea8ee32977fe3"
      }
     },
     "metadata": {}
    }
   ],
   "source": [
    "# 7. Create a direction layer map using the start and end latitude-longitude pairs,\n",
    "# and stop1, stop2, and stop3 as the waypoints. The travel_mode should be \"DRIVING\", \"BICYCLING\", or \"WALKING\".\n",
    "fig = gmaps.figure()\n",
    "vacation_driving_trip = gmaps.directions_layer(start, end, waypoints=[stop1, stop2, stop3], travel_mode='BICYCLING')\n",
    "fig.add_layer(vacation_driving_trip)\n",
    "fig\n"
   ]
  },
  {
   "cell_type": "code",
   "execution_count": 17,
   "metadata": {},
   "outputs": [
    {
     "output_type": "execute_result",
     "data": {
      "text/plain": [
       "   City_ID              City Country  Max Temp Current Description      Lat  \\\n",
       "0      195   Lazaro Cardenas      MX     80.29           clear sky  17.9583   \n",
       "1      244          Acapulco      MX     82.42           clear sky  16.8634   \n",
       "2      173  Puerto Escondido      MX     84.07     overcast clouds  15.8500   \n",
       "3      363         Tecolutla      MX     81.70     overcast clouds  20.4833   \n",
       "4      195   Lazaro Cardenas      MX     80.29           clear sky  17.9583   \n",
       "\n",
       "        Log                     Hotel Name  \n",
       "0 -102.2000           Hotel Quinta Antigua  \n",
       "1  -99.8901      HS Hotsson Smart Acapulco  \n",
       "2  -97.0667  Aldea del Bazar Hotel and Spa  \n",
       "3  -97.0167             Hotel Plaza Marsol  \n",
       "4 -102.2000           Hotel Quinta Antigua  "
      ],
      "text/html": "<div>\n<style scoped>\n    .dataframe tbody tr th:only-of-type {\n        vertical-align: middle;\n    }\n\n    .dataframe tbody tr th {\n        vertical-align: top;\n    }\n\n    .dataframe thead th {\n        text-align: right;\n    }\n</style>\n<table border=\"1\" class=\"dataframe\">\n  <thead>\n    <tr style=\"text-align: right;\">\n      <th></th>\n      <th>City_ID</th>\n      <th>City</th>\n      <th>Country</th>\n      <th>Max Temp</th>\n      <th>Current Description</th>\n      <th>Lat</th>\n      <th>Log</th>\n      <th>Hotel Name</th>\n    </tr>\n  </thead>\n  <tbody>\n    <tr>\n      <th>0</th>\n      <td>195</td>\n      <td>Lazaro Cardenas</td>\n      <td>MX</td>\n      <td>80.29</td>\n      <td>clear sky</td>\n      <td>17.9583</td>\n      <td>-102.2000</td>\n      <td>Hotel Quinta Antigua</td>\n    </tr>\n    <tr>\n      <th>1</th>\n      <td>244</td>\n      <td>Acapulco</td>\n      <td>MX</td>\n      <td>82.42</td>\n      <td>clear sky</td>\n      <td>16.8634</td>\n      <td>-99.8901</td>\n      <td>HS Hotsson Smart Acapulco</td>\n    </tr>\n    <tr>\n      <th>2</th>\n      <td>173</td>\n      <td>Puerto Escondido</td>\n      <td>MX</td>\n      <td>84.07</td>\n      <td>overcast clouds</td>\n      <td>15.8500</td>\n      <td>-97.0667</td>\n      <td>Aldea del Bazar Hotel and Spa</td>\n    </tr>\n    <tr>\n      <th>3</th>\n      <td>363</td>\n      <td>Tecolutla</td>\n      <td>MX</td>\n      <td>81.70</td>\n      <td>overcast clouds</td>\n      <td>20.4833</td>\n      <td>-97.0167</td>\n      <td>Hotel Plaza Marsol</td>\n    </tr>\n    <tr>\n      <th>4</th>\n      <td>195</td>\n      <td>Lazaro Cardenas</td>\n      <td>MX</td>\n      <td>80.29</td>\n      <td>clear sky</td>\n      <td>17.9583</td>\n      <td>-102.2000</td>\n      <td>Hotel Quinta Antigua</td>\n    </tr>\n  </tbody>\n</table>\n</div>"
     },
     "metadata": {},
     "execution_count": 17
    }
   ],
   "source": [
    "# 8. To create a marker layer map between the four cities.\n",
    "#  Combine the four city DataFrames into one DataFrame using the concat() function.\n",
    "itinerary_df = pd.concat([vacation_start, vacation_stop1, vacation_stop2, vacation_stop3, vacation_end],ignore_index=True)\n",
    "itinerary_df"
   ]
  },
  {
   "cell_type": "code",
   "execution_count": 18,
   "metadata": {},
   "outputs": [],
   "source": [
    "# 9 Using the template add city name, the country code, the weather description and maximum temperature for the city. \n",
    "info_box_template = \"\"\"\n",
    "<dl>\n",
    "<dt>Hotel Name</dt><dd>{Hotel Name}</dd>\n",
    "<dt>City</dt><dd>{City}</dd>\n",
    "<dt>Country</dt><dd>{Country}</dd>\n",
    "<dt>Current Weather</dt><dd>{Current Description} and {Max Temp} °F</dd>\n",
    "</dl>\n",
    "\"\"\"\n",
    "\n",
    "# 10a Get the data from each row and add it to the formatting template and store the data in a list.\n",
    "itinerary_info = [info_box_template.format(**row) for index, row in itinerary_df.iterrows()]\n",
    "\n",
    "# 10b. Get the latitude and longitude from each row and store in a new DataFrame.\n",
    "locations = itinerary_df[[\"Lat\", \"Log\"]]"
   ]
  },
  {
   "cell_type": "code",
   "execution_count": 19,
   "metadata": {},
   "outputs": [
    {
     "output_type": "display_data",
     "data": {
      "text/plain": "Figure(layout=FigureLayout(height='420px'))",
      "application/vnd.jupyter.widget-view+json": {
       "version_major": 2,
       "version_minor": 0,
       "model_id": "70ffc42bb9334055b374501cf396f02f"
      }
     },
     "metadata": {}
    }
   ],
   "source": [
    "# 11a. Add a marker layer for each city to the map.\n",
    "fig = gmaps.figure()\n",
    "marker_layer = gmaps.marker_layer(locations, info_box_content=itinerary_info)\n",
    "fig.add_layer(marker_layer)\n",
    "\n",
    "# 11b. Display the figure\n",
    "fig"
   ]
  },
  {
   "cell_type": "code",
   "execution_count": null,
   "metadata": {},
   "outputs": [],
   "source": []
  }
 ],
 "metadata": {
  "kernelspec": {
   "name": "pythondata",
   "display_name": "Python 3.7.9 64-bit ('PythonData': conda)"
  },
  "language_info": {
   "codemirror_mode": {
    "name": "ipython",
    "version": 3
   },
   "file_extension": ".py",
   "mimetype": "text/x-python",
   "name": "python",
   "nbconvert_exporter": "python",
   "pygments_lexer": "ipython3",
   "version": "3.7.9"
  },
  "latex_envs": {
   "LaTeX_envs_menu_present": true,
   "autoclose": false,
   "autocomplete": true,
   "bibliofile": "biblio.bib",
   "cite_by": "apalike",
   "current_citInitial": 1,
   "eqLabelWithNumbers": true,
   "eqNumInitial": 1,
   "hotkeys": {
    "equation": "Ctrl-E",
    "itemize": "Ctrl-I"
   },
   "labels_anchors": false,
   "latex_user_defs": false,
   "report_style_numbering": false,
   "user_envs_cfg": false
  }
 },
 "nbformat": 4,
 "nbformat_minor": 2
}